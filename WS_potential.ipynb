{
 "cells": [
  {
   "cell_type": "markdown",
   "metadata": {},
   "source": [
    "### Packages and Function Definitoins"
   ]
  },
  {
   "cell_type": "code",
   "execution_count": 620,
   "metadata": {},
   "outputs": [],
   "source": [
    "# Loading neccesary packages\n",
    "import numpy as np\n",
    "import pymc3 as pm\n",
    "import pandas as pd\n",
    "import matplotlib.pyplot as plt\n",
    "import pickle as pkl\n",
    "import theano\n",
    "import sys\n",
    "from tqdm import tqdm\n",
    "from sklearn.model_selection import train_test_split\n",
    "\n",
    "import seaborn as sns"
   ]
  },
  {
   "cell_type": "code",
   "execution_count": 644,
   "metadata": {},
   "outputs": [],
   "source": [
    "# Functions and utilities\n",
    "def WS_potential(r, V0 = 50, a = 0.5, r0 = 1.25, A = 64):\n",
    "    R = r0 * A ** (1 / 3)\n",
    "    V_r = - V0 / (1 + np.exp((r - R) / a))\n",
    "    return V_r\n",
    "\n",
    "def C_potential(r, V0 = 50):\n",
    "    return - V0 / r\n",
    "\n",
    "def exp_data(r, sd, V0 = 50, a = 0.5, r0 = 1.25, A = 64):\n",
    "    exp = WS_potential(r, V0, a, r0, A) * 0.5 + C_potential(r, V0) * 0.5 + sd * np.random.randn(len(r))\n",
    "    return exp\n",
    "\n",
    "def r_exp(n_exp = 50, r_range = [0.1, 10], domain_type = 1):\n",
    "    \n",
    "    if domain_type == 1:\n",
    "        r = np.random.uniform(low = r_range[0], high = r_range[1], size =  n_exp)\n",
    "    if domain_type == 2:\n",
    "        r_1 = np.random.uniform(low = r_range[0] + 3, high = r_range[1], size =  int(n_exp / 2))\n",
    "        r_2 = np.random.uniform(low = r_range[0], high = r_range[0] + 3, size =  int(n_exp / 2))\n",
    "        r = np.concatenate((r_2,r_1), axis = 0)\n",
    "        \n",
    "    return r\n",
    "\n",
    "def exp_model(r, y_exp, priors, model_type, V0 = 50, a = 0.5, r0 = 1.25, A = 64):\n",
    "    \n",
    "    with pm.Model() as pm_model:\n",
    "\n",
    "        # priors\n",
    "        sigma = pm.InverseGamma(\"sigma\", alpha = priors[\"sigma\"][0], beta = priors[\"sigma\"][1], transform=None)\n",
    "\n",
    "        # covariance\n",
    "        cov = pm.gp.cov.WhiteNoise(sigma)\n",
    "        K = cov(r[:, None])\n",
    "\n",
    "        # mean\n",
    "        if model_type == \"WS\":\n",
    "            m = WS_potential(r, V0, a, r0, A)\n",
    "        if model_type == \"C\":\n",
    "            m = C_potential(r, V0)\n",
    "\n",
    "        # observations\n",
    "        obs = pm.MvNormal('obs', mu = m, cov = K, observed = y_exp, transform=None)\n",
    "\n",
    "    logp = obs.logp\n",
    "    return pm_model, obs, logp\n",
    "\n",
    "def evidence_int(priors, pm_model, obs, logp, n_mc):\n",
    "    \n",
    "    # evidence integral\n",
    "    with pm.Model() as priors_model:\n",
    "        # priors\n",
    "        sigma = pm.InverseGamma(\"sigma\", alpha = priors[\"sigma\"][0], beta = priors[\"sigma\"][1], transform=None)\n",
    "        trace_priors = pm.sample(n_mc, tune = 5000, chains = 1)\n",
    "    plt.hist(trace_priors[\"sigma\"][trace_priors[\"sigma\"] < 100])\n",
    "    plt.show()\n",
    "    \n",
    "    log_likelihood = np.empty(0)\n",
    "    mc_integral = np.empty(n_mc)\n",
    "    for i in tqdm(range(n_mc), desc = \"Log likelihood eval\"):\n",
    "        log_likelihood = np.append(log_likelihood, logp(trace_priors[i], transfrom = None))\n",
    "\n",
    "    for i in tqdm(range(n_mc), desc = \"Integral calc\"):\n",
    "        m = max(log_likelihood[:(i + 1)])\n",
    "        mc_integral[i] = (np.exp(m) * np.sum(np.exp(log_likelihood[:(i + 1)] - m))) / (i + 1)\n",
    "    plt.plot(mc_integral)\n",
    "    plt.show()\n",
    "    return mc_integral\n",
    "\n",
    "def sample_predictions(r_new,  pm_model, obs, model_type, n_pred, V0 = 50, a = 0.5, r0 = 1.25, A = 64):\n",
    "    with pm_model:\n",
    "        trace = pm.sample(n_pred, tune = 5000, chains = 1) \n",
    "        \n",
    "    posterior_predictive = np.empty((len(r_new), 1))\n",
    "    for sigma in tqdm(trace[\"sigma\"], desc = \"Posterior predictive distribution\"):\n",
    "        # Covariance\n",
    "        cov = np.identity(len(r_new)) * sigma\n",
    "        # Mean\n",
    "        if model_type == \"WS\":\n",
    "            mean = WS_potential(r_new, V0, a, r0, A)\n",
    "        if model_type == \"C\":\n",
    "            mean = C_potential(r_new, V0)\n",
    "        # Sample from predictive distribution\n",
    "        sample = np.random.multivariate_normal(mean, cov)[:,None]\n",
    "        posterior_predictive = np.concatenate((posterior_predictive, sample), axis = 1)\n",
    "            \n",
    "    return posterior_predictive[:,1:], trace\n",
    "\n",
    "def sample_mixture(sample_M1, sample_M2, M1_to_M2_ratio):\n",
    "    \"\"\"Function sampel from the mixture under models M1 and M2 according to the provided ratio.\n",
    "    \n",
    "    Where:\n",
    "    sample_M1 - sample from the distribution under M1\n",
    "    sample_M2 - sample from the distribution under M2\n",
    "    M1_to_M2_ratio - Ration of the samples for M1 in favor of M2\n",
    "    \"\"\"           \n",
    "\n",
    "    i = 0\n",
    "    j = 0\n",
    "    mixture_sample = np.empty((sample_M1.shape[0], 1))\n",
    "    while (i < len(sample_M1.T)):\n",
    "        u = np.random.uniform()\n",
    "        if u < (M1_to_M2_ratio / (M1_to_M2_ratio + 1)):\n",
    "            sample_new = sample_M1[:,i]  \n",
    "            mixture_sample = np.concatenate((mixture_sample, sample_new[:,None]), axis = 1)\n",
    "            i += 1\n",
    "        else:\n",
    "            sample_new = sample_M2[:,j] \n",
    "            mixture_sample = np.concatenate((mixture_sample, sample_new[:,None]), axis = 1)\n",
    "            j+=1\n",
    "        \n",
    "    return mixture_sample[:,1:]\n",
    "\n",
    "def mse(Y_truth, Y_new):\n",
    "    \"\"\"Function calculates the mean squared error for the posterior samples Y_new\"\"\"\n",
    "    Y_new_mean = np.mean(Y_new, axis = 1)[:,None]\n",
    "    mse_calc = np.mean((Y_new_mean - Y_truth[:,None]) ** 2)\n",
    "    return mse_calc"
   ]
  },
  {
   "cell_type": "markdown",
   "metadata": {},
   "source": [
    "### Data generation and sampling"
   ]
  },
  {
   "cell_type": "markdown",
   "metadata": {},
   "source": [
    "#### Function plotting - sanity check"
   ]
  },
  {
   "cell_type": "code",
   "execution_count": 659,
   "metadata": {},
   "outputs": [
    {
     "data": {
      "image/png": "[encoded data removed]",
      "text/plain": [
       "<Figure size 432x288 with 1 Axes>"
      ]
     },
     "metadata": {
      "needs_background": "light"
     },
     "output_type": "display_data"
    }
   ],
   "source": [
    "r_check_size = 100\n",
    "r_range = [0.3, 10]\n",
    "A = 72\n",
    "r_check = np.linspace(start = r_range[0], stop = r_range[1], num = r_check_size)\n",
    "V_r = WS_potential(r_check, A = A)\n",
    "C_r = C_potential(r_check)\n",
    "plt.plot(r_check, C_r, label = \"Coulomb potential\")\n",
    "plt.plot(r_check, V_r, label = \"W-S potential\")\n",
    "plt.plot(r_check, V_r * 0.5 + C_r * 0.5, label = \"Aditive model\")\n",
    "plt.legend()\n",
    "plt.show()"
   ]
  },
  {
   "cell_type": "markdown",
   "metadata": {},
   "source": [
    "#### Experimental data"
   ]
  },
  {
   "cell_type": "code",
   "execution_count": 595,
   "metadata": {},
   "outputs": [
    {
     "data": {
      "image/png": "[encoded data removed]",
      "text/plain": [
       "<Figure size 432x288 with 1 Axes>"
      ]
     },
     "metadata": {
      "needs_background": "light"
     },
     "output_type": "display_data"
    }
   ],
   "source": [
    "np.random.seed(0)\n",
    "########### This sets up the simulation\n",
    "# n_exp is the size of experimental data\n",
    "# r_range is the range of r values we want to consider\n",
    "# eps is the sd of experimental error\n",
    "# A is the atomic mass number of the nuclei under consideration\n",
    "\n",
    "n_exp = 84\n",
    "r_range = [0.1, 10]\n",
    "eps = 1 # Experimental eror\n",
    "A = 72\n",
    "############\n",
    "\n",
    "r = r_exp(n_exp = n_exp, r_range = r_range, domain_type = 1)\n",
    "y_exp = exp_data(r, eps, A = A)\n",
    "\n",
    "# Train/test split\n",
    "train_size = int(len(y_exp) * 2 / 3)\n",
    "train_sample = np.random.choice(len(y_exp), train_size, replace=False)\n",
    "test_sample = list(set(np.arange(len(y_exp))) - set(train_sample))\n",
    "\n",
    "\n",
    "r_train = r[train_sample]\n",
    "y_train = y_exp[train_sample]\n",
    "\n",
    "r_test = r[test_sample]\n",
    "y_test = y_exp[test_sample]\n",
    "\n",
    "\n",
    "###### Sanity check\n",
    "plt.scatter(r_train, y_train, c = 'r', label = \"Training data\")\n",
    "plt.scatter(r_test, y_test, c = 'k', label = \"Testing data\")\n",
    "plt.legend()\n",
    "plt.show()\n",
    "######"
   ]
  },
  {
   "cell_type": "markdown",
   "metadata": {},
   "source": [
    "### WS Model - Evidence "
   ]
  },
  {
   "cell_type": "code",
   "execution_count": 596,
   "metadata": {
    "scrolled": false
   },
   "outputs": [
    {
     "name": "stderr",
     "output_type": "stream",
     "text": [
      "Auto-assigning NUTS sampler...\n",
      "Initializing NUTS using jitter+adapt_diag...\n",
      "Sequential sampling (1 chains in 1 job)\n",
      "NUTS: [sigma]\n",
      "100%|██████████████████████████████████████████████████████████████████████████| 15000/15000 [00:10<00:00, 1439.25it/s]\n",
      "There were 3548 divergences after tuning. Increase `target_accept` or reparameterize.\n",
      "Only one chain was sampled, this makes it impossible to run some convergence checks\n"
     ]
    },
    {
     "data": {
      "image/png": "[encoded data removed]",
      "text/plain": [
       "<Figure size 432x288 with 1 Axes>"
      ]
     },
     "metadata": {
      "needs_background": "light"
     },
     "output_type": "display_data"
    },
    {
     "name": "stderr",
     "output_type": "stream",
     "text": [
      "Log likelihood eval: 100%|█████████████████████████████████████████████████████| 10000/10000 [00:02<00:00, 4709.66it/s]\n",
      "Integral calc: 100%|███████████████████████████████████████████████████████████| 10000/10000 [00:05<00:00, 1832.36it/s]\n"
     ]
    },
    {
     "data": {
      "image/png": "[encoded data removed]",
      "text/plain": [
       "<Figure size 432x288 with 1 Axes>"
      ]
     },
     "metadata": {
      "needs_background": "light"
     },
     "output_type": "display_data"
    }
   ],
   "source": [
    "np.random.seed(0)\n",
    "priors = {\"sigma\": [1, 30]}\n",
    "n_mc = 10000\n",
    "pm_model_WS, obs_WS, logp_WS = exp_model(r_train, y_train, priors, model_type = \"WS\", A = A)\n",
    "mc_integral_WS = evidence_int(priors, pm_model_WS, obs_WS, logp_WS, n_mc)"
   ]
  },
  {
   "cell_type": "markdown",
   "metadata": {},
   "source": [
    "### C Model - Evidence"
   ]
  },
  {
   "cell_type": "code",
   "execution_count": 597,
   "metadata": {
    "scrolled": false
   },
   "outputs": [
    {
     "name": "stderr",
     "output_type": "stream",
     "text": [
      "Auto-assigning NUTS sampler...\n",
      "Initializing NUTS using jitter+adapt_diag...\n",
      "Sequential sampling (1 chains in 1 job)\n",
      "NUTS: [sigma]\n",
      "100%|██████████████████████████████████████████████████████████████████████████| 15000/15000 [00:09<00:00, 1654.75it/s]\n",
      "There were 3548 divergences after tuning. Increase `target_accept` or reparameterize.\n",
      "Only one chain was sampled, this makes it impossible to run some convergence checks\n"
     ]
    },
    {
     "data": {
      "image/png": "[encoded data removed]",
      "text/plain": [
       "<Figure size 432x288 with 1 Axes>"
      ]
     },
     "metadata": {
      "needs_background": "light"
     },
     "output_type": "display_data"
    },
    {
     "name": "stderr",
     "output_type": "stream",
     "text": [
      "Log likelihood eval: 100%|█████████████████████████████████████████████████████| 10000/10000 [00:01<00:00, 5494.00it/s]\n",
      "Integral calc: 100%|███████████████████████████████████████████████████████████| 10000/10000 [00:05<00:00, 1724.82it/s]\n"
     ]
    },
    {
     "data": {
      "image/png": "[encoded data removed]",
      "text/plain": [
       "<Figure size 432x288 with 1 Axes>"
      ]
     },
     "metadata": {
      "needs_background": "light"
     },
     "output_type": "display_data"
    }
   ],
   "source": [
    "np.random.seed(0)\n",
    "priors = {\"sigma\": [1, 30]}\n",
    "n_mc = 10000\n",
    "pm_model_C, obs_C, logp_C = exp_model(r_train, y_train, priors, model_type = \"C\", A = A)\n",
    "mc_integral_C = evidence_int(priors, pm_model_C, obs_C, logp_C, n_mc)"
   ]
  },
  {
   "cell_type": "code",
   "execution_count": 598,
   "metadata": {},
   "outputs": [
    {
     "data": {
      "text/plain": [
       "0.7781855715175818"
      ]
     },
     "execution_count": 598,
     "metadata": {},
     "output_type": "execute_result"
    }
   ],
   "source": [
    "mc_integral_C[-1] / mc_integral_WS[-1]"
   ]
  },
  {
   "cell_type": "markdown",
   "metadata": {},
   "source": [
    "### Predictions"
   ]
  },
  {
   "cell_type": "code",
   "execution_count": 599,
   "metadata": {},
   "outputs": [],
   "source": [
    "# setup\n",
    "n_pred = 20000\n",
    "r_new = r\n",
    "M1_M2_ratio = mc_integral_C[-1] / mc_integral_WS[-1]"
   ]
  },
  {
   "cell_type": "markdown",
   "metadata": {},
   "source": [
    "#### WS Model - Prediction"
   ]
  },
  {
   "cell_type": "code",
   "execution_count": 600,
   "metadata": {},
   "outputs": [
    {
     "name": "stderr",
     "output_type": "stream",
     "text": [
      "Auto-assigning NUTS sampler...\n",
      "Initializing NUTS using jitter+adapt_diag...\n",
      "Sequential sampling (1 chains in 1 job)\n",
      "NUTS: [sigma]\n",
      "100%|███████████████████████████████████████████████████████████████████████████| 25000/25000 [01:15<00:00, 331.04it/s]\n",
      "Only one chain was sampled, this makes it impossible to run some convergence checks\n",
      "Posterior predictive distribution: 100%|████████████████████████████████████████| 20000/20000 [01:50<00:00, 180.22it/s]\n"
     ]
    }
   ],
   "source": [
    "np.random.seed(0)\n",
    "pm_model_WS, obs_WS, logp_WS = exp_model(r, y_exp, priors, model_type = \"WS\", A = A)\n",
    "predictions_WS, trace_WS = sample_predictions(r_new = r_new, pm_model = pm_model_WS, obs = obs_WS, model_type =\"WS\",\n",
    "                                              n_pred = n_pred, A = A)"
   ]
  },
  {
   "cell_type": "code",
   "execution_count": 601,
   "metadata": {},
   "outputs": [
    {
     "data": {
      "image/png": "[encoded data removed]",
      "text/plain": [
       "<Figure size 432x288 with 1 Axes>"
      ]
     },
     "metadata": {
      "needs_background": "light"
     },
     "output_type": "display_data"
    }
   ],
   "source": [
    "# Sanity check\n",
    "plt.scatter(r_new, np.mean(predictions_WS, axis = 1))\n",
    "plt.show()"
   ]
  },
  {
   "cell_type": "markdown",
   "metadata": {},
   "source": [
    "#### C Model - Prediction"
   ]
  },
  {
   "cell_type": "code",
   "execution_count": 602,
   "metadata": {},
   "outputs": [
    {
     "name": "stderr",
     "output_type": "stream",
     "text": [
      "Auto-assigning NUTS sampler...\n",
      "Initializing NUTS using jitter+adapt_diag...\n",
      "Sequential sampling (1 chains in 1 job)\n",
      "NUTS: [sigma]\n",
      "100%|███████████████████████████████████████████████████████████████████████████| 25000/25000 [01:19<00:00, 316.40it/s]\n",
      "Only one chain was sampled, this makes it impossible to run some convergence checks\n",
      "Posterior predictive distribution: 100%|█████████████████████████████████████████| 20000/20000 [01:57<00:00, 89.04it/s]\n"
     ]
    }
   ],
   "source": [
    "np.random.seed(0)\n",
    "pm_model_C, obs_C, logp_C = exp_model(r, y_exp, priors, model_type = \"C\", A = A)\n",
    "predictions_C, trace_C = sample_predictions(r_new = r_new, pm_model = pm_model_C, obs = obs_C, model_type =\"C\",\n",
    "                                              n_pred = n_pred, A = A)"
   ]
  },
  {
   "cell_type": "code",
   "execution_count": 603,
   "metadata": {},
   "outputs": [
    {
     "data": {
      "image/png": "[encoded data removed]",
      "text/plain": [
       "<Figure size 432x288 with 1 Axes>"
      ]
     },
     "metadata": {
      "needs_background": "light"
     },
     "output_type": "display_data"
    }
   ],
   "source": [
    "# Sanity check\n",
    "plt.scatter(r_new, np.mean(predictions_C, axis = 1))\n",
    "plt.show()"
   ]
  },
  {
   "cell_type": "markdown",
   "metadata": {},
   "source": [
    "#### BMA - Predictions"
   ]
  },
  {
   "cell_type": "code",
   "execution_count": 604,
   "metadata": {},
   "outputs": [],
   "source": [
    "predictions_BMA = sample_mixture(predictions_C, predictions_WS, M1_M2_ratio)"
   ]
  },
  {
   "cell_type": "code",
   "execution_count": 605,
   "metadata": {
    "scrolled": true
   },
   "outputs": [
    {
     "data": {
      "image/png": "[encoded data removed]",
      "text/plain": [
       "<Figure size 432x288 with 1 Axes>"
      ]
     },
     "metadata": {
      "needs_background": "light"
     },
     "output_type": "display_data"
    }
   ],
   "source": [
    "# Sanity check full data\n",
    "plt.scatter(r_new, np.mean(predictions_WS, axis = 1), label = \"WS\")\n",
    "plt.scatter(r_new, np.mean(predictions_C, axis = 1), label = \"C\")\n",
    "plt.scatter(r_new, np.mean(predictions_BMA, axis = 1), label = \"BMA\")\n",
    "#plt.scatter(r_new, np.mean(predictions_WS, axis = 1) * 0.5 + np.mean(predictions_C, axis = 1) * 0.5, label = \"BMA_avg\")\n",
    "plt.scatter(r_new, y_exp, label = \"Y\")\n",
    "plt.legend()\n",
    "plt.show()"
   ]
  },
  {
   "cell_type": "code",
   "execution_count": 606,
   "metadata": {},
   "outputs": [
    {
     "data": {
      "image/png": "[encoded data removed]",
      "text/plain": [
       "<Figure size 432x288 with 1 Axes>"
      ]
     },
     "metadata": {
      "needs_background": "light"
     },
     "output_type": "display_data"
    }
   ],
   "source": [
    "# Sanity check test data\n",
    "plt.scatter(r_new[test_sample], np.mean(predictions_WS[test_sample,:], axis = 1), label = \"WS\")\n",
    "plt.scatter(r_new[test_sample], np.mean(predictions_C[test_sample,:], axis = 1), label = \"C\")\n",
    "plt.scatter(r_new[test_sample], np.mean(predictions_BMA[test_sample,:], axis = 1), label = \"BMA\")\n",
    "plt.scatter(r_new[test_sample], y_exp[test_sample], label = \"Y\")\n",
    "plt.legend()\n",
    "plt.show()"
   ]
  },
  {
   "cell_type": "code",
   "execution_count": 607,
   "metadata": {},
   "outputs": [
    {
     "name": "stdout",
     "output_type": "stream",
     "text": [
      "RMSE BMA:1.81571839476193\n",
      "RMSE W-S:14.596832461306748\n",
      "RMSE C:15.0703239716332\n",
      "r^2: 0.984526814215902\n"
     ]
    }
   ],
   "source": [
    "print(\"RMSE BMA:\" + str(np.sqrt(mse(y_exp[test_sample], predictions_BMA[test_sample,:]))))\n",
    "print(\"RMSE W-S:\" + str(np.sqrt(mse(y_exp[test_sample], predictions_WS[test_sample,:]))))\n",
    "print(\"RMSE C:\" + str(np.sqrt(mse(y_exp[test_sample], predictions_C[test_sample,:]))))\n",
    "print(\"r^2: \" + str(1 - mse(y_exp[test_sample], predictions_BMA[test_sample,:]) / np.min([mse(y_exp[test_sample], predictions_WS[test_sample,:]), mse(y_exp[test_sample], predictions_C[test_sample,:])])))"
   ]
  },
  {
   "cell_type": "code",
   "execution_count": 608,
   "metadata": {
    "scrolled": true
   },
   "outputs": [
    {
     "name": "stdout",
     "output_type": "stream",
     "text": [
      "RMSE BMA:1.77357486024002\n",
      "RMSE W-S:13.142430380564297\n",
      "RMSE C:13.357663436334754\n",
      "r^2: 0.9817884178102888\n"
     ]
    }
   ],
   "source": [
    "print(\"RMSE BMA:\" + str(np.sqrt(mse(y_exp, predictions_BMA))))\n",
    "print(\"RMSE W-S:\" + str(np.sqrt(mse(y_exp, predictions_WS))))\n",
    "print(\"RMSE C:\" + str(np.sqrt(mse(y_exp, predictions_C))))\n",
    "print(\"r^2: \" + str(1 - mse(y_exp, predictions_BMA) / np.min([mse(y_exp, predictions_WS), mse(y_exp, predictions_C)])))"
   ]
  }
 ],
 "metadata": {
  "kernelspec": {
   "display_name": "Python 3",
   "language": "python",
   "name": "python3"
  },
  "language_info": {
   "codemirror_mode": {
    "name": "ipython",
    "version": 3
   },
   "file_extension": ".py",
   "mimetype": "text/x-python",
   "name": "python",
   "nbconvert_exporter": "python",
   "pygments_lexer": "ipython3",
   "version": "3.7.3"
  },
  "latex_envs": {
   "LaTeX_envs_menu_present": true,
   "autoclose": false,
   "autocomplete": true,
   "bibliofile": "biblio.bib",
   "cite_by": "apalike",
   "current_citInitial": 1,
   "eqLabelWithNumbers": true,
   "eqNumInitial": 1,
   "hotkeys": {
    "equation": "Ctrl-E",
    "itemize": "Ctrl-I"
   },
   "labels_anchors": false,
   "latex_user_defs": false,
   "report_style_numbering": false,
   "user_envs_cfg": false
  }
 },
 "nbformat": 4,
 "nbformat_minor": 2
}
